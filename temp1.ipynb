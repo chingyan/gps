{
  "nbformat": 4,
  "nbformat_minor": 0,
  "metadata": {
    "colab": {
      "name": "Untitled0.ipynb",
      "version": "0.3.2",
      "provenance": [],
      "include_colab_link": true
    },
    "kernelspec": {
      "name": "python3",
      "display_name": "Python 3"
    }
  },
  "cells": [
    {
      "cell_type": "markdown",
      "metadata": {
        "id": "view-in-github",
        "colab_type": "text"
      },
      "source": [
        "<a href=\"https://colab.research.google.com/github/chingyan/gps/blob/master/temp1.ipynb\" target=\"_parent\"><img src=\"https://colab.research.google.com/assets/colab-badge.svg\" alt=\"Open In Colab\"/></a>"
      ]
    },
    {
      "cell_type": "code",
      "metadata": {
        "id": "3XfjPzO2dEkU",
        "colab_type": "code",
        "colab": {}
      },
      "source": [
        "import matplotlib\n",
        "import math"
      ],
      "execution_count": 0,
      "outputs": []
    },
    {
      "cell_type": "code",
      "metadata": {
        "id": "mYPOrJKsbiCo",
        "colab_type": "code",
        "colab": {
          "base_uri": "https://localhost:8080/",
          "height": 122
        },
        "outputId": "d98e7810-40cf-436a-d1a8-35a170fe49f1"
      },
      "source": [
        "A = float(input(\"請輸入商品價錢\"))\n",
        "B = float(input(\"請輸入商品價錢\"))\n",
        "C = float(input(\"請輸入商品價錢\"))\n",
        "D = float(input(\"請輸入商品價錢\"))\n",
        "E = float(input(\"請輸入商品價錢\"))\n",
        "\n",
        "sum = A + B + C + D + E\n",
        "sum = sum *1.07\n",
        "\n",
        "print(sum)"
      ],
      "execution_count": 1,
      "outputs": [
        {
          "output_type": "stream",
          "text": [
            "請輸入商品價錢20\n",
            "請輸入商品價錢19\n",
            "請輸入商品價錢8\n",
            "請輸入商品價錢17\n",
            "請輸入商品價錢17\n",
            "86.67\n"
          ],
          "name": "stdout"
        }
      ]
    },
    {
      "cell_type": "code",
      "metadata": {
        "id": "w6PXKJhHcRVb",
        "colab_type": "code",
        "colab": {
          "base_uri": "https://localhost:8080/",
          "height": 34
        },
        "outputId": "cf64de0c-9459-4fb7-d6eb-5d66981f05f4"
      },
      "source": [
        "print(format(1234.56789,\".2f\"))"
      ],
      "execution_count": 6,
      "outputs": [
        {
          "output_type": "stream",
          "text": [
            "1234.57\n"
          ],
          "name": "stdout"
        }
      ]
    },
    {
      "cell_type": "code",
      "metadata": {
        "id": "20u_cBlvdW-0",
        "colab_type": "code",
        "colab": {
          "base_uri": "https://localhost:8080/",
          "height": 52
        },
        "outputId": "89da53be-9388-418d-ad50-d058b4e64156"
      },
      "source": [
        "r = float(input(\"輸入半徑\"))\n",
        "lll = 2 * r * math.pi\n",
        "lkk = math.pi * r ** 2\n",
        "print(\"周長：\",format(lll,\"7.2f\"),\"面積：\",format(lkk,\"7.2f\"))"
      ],
      "execution_count": 14,
      "outputs": [
        {
          "output_type": "stream",
          "text": [
            "輸入半徑80\n",
            "周長：  502.65 面積： 20106.19\n"
          ],
          "name": "stdout"
        }
      ]
    }
  ]
}